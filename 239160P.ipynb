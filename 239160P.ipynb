{
  "cells": [
    {
      "cell_type": "markdown",
      "metadata": {
        "id": "view-in-github",
        "colab_type": "text"
      },
      "source": [
        "<a href=\"https://colab.research.google.com/github/ruklankularatne/UoM_MapReduce-vs-Spark/blob/main/239160P.ipynb\" target=\"_parent\"><img src=\"https://colab.research.google.com/assets/colab-badge.svg\" alt=\"Open In Colab\"/></a>"
      ]
    },
    {
      "cell_type": "code",
      "execution_count": 2,
      "id": "f779d258",
      "metadata": {
        "id": "f779d258"
      },
      "outputs": [],
      "source": [
        "import pandas as pd\n",
        "import matplotlib.pyplot as plt\n",
        "import seaborn as sns"
      ]
    },
    {
      "cell_type": "code",
      "execution_count": 4,
      "id": "eadde960",
      "metadata": {
        "colab": {
          "base_uri": "https://localhost:8080/",
          "height": 317
        },
        "id": "eadde960",
        "outputId": "020c1cd6-1ce5-401e-ee31-406204d90e69"
      },
      "outputs": [
        {
          "output_type": "execute_result",
          "data": {
            "text/plain": [
              "   Unnamed: 0  Year  Month  DayofMonth  DayOfWeek  DepTime  CRSDepTime  \\\n",
              "0           1  2003      6          17          2     1310        1255   \n",
              "1           2  2003      6          20          5     1303        1255   \n",
              "2           3  2003      6          22          7     1325        1255   \n",
              "3           4  2003      6          23          1     1328        1255   \n",
              "4           5  2003      6          25          3     1307        1255   \n",
              "\n",
              "   ArrTime  CRSArrTime UniqueCarrier  ...  TaxiIn TaxiOut  Cancelled  \\\n",
              "0   1612.0        1615            AA  ...     6.0      23          0   \n",
              "1   1623.0        1615            AA  ...    11.0      29          0   \n",
              "2   1953.0        1615            AA  ...     9.0     206          0   \n",
              "3   1655.0        1615            AA  ...     8.0      32          0   \n",
              "4   1620.0        1615            AA  ...    12.0      20          0   \n",
              "\n",
              "   CancellationCode  Diverted  CarrierDelay  WeatherDelay NASDelay  \\\n",
              "0                 N         0           NaN           NaN      NaN   \n",
              "1                 N         0           NaN           NaN      NaN   \n",
              "2                 N         0           0.0           0.0    218.0   \n",
              "3                 N         0           0.0           0.0     40.0   \n",
              "4                 N         0           NaN           NaN      NaN   \n",
              "\n",
              "  SecurityDelay  LateAircraftDelay  \n",
              "0           NaN                NaN  \n",
              "1           NaN                NaN  \n",
              "2           0.0                0.0  \n",
              "3           0.0                0.0  \n",
              "4           NaN                NaN  \n",
              "\n",
              "[5 rows x 30 columns]"
            ],
            "text/html": [
              "\n",
              "  <div id=\"df-623ca0b6-ef62-42bb-a403-e94ba3a39146\">\n",
              "    <div class=\"colab-df-container\">\n",
              "      <div>\n",
              "<style scoped>\n",
              "    .dataframe tbody tr th:only-of-type {\n",
              "        vertical-align: middle;\n",
              "    }\n",
              "\n",
              "    .dataframe tbody tr th {\n",
              "        vertical-align: top;\n",
              "    }\n",
              "\n",
              "    .dataframe thead th {\n",
              "        text-align: right;\n",
              "    }\n",
              "</style>\n",
              "<table border=\"1\" class=\"dataframe\">\n",
              "  <thead>\n",
              "    <tr style=\"text-align: right;\">\n",
              "      <th></th>\n",
              "      <th>Unnamed: 0</th>\n",
              "      <th>Year</th>\n",
              "      <th>Month</th>\n",
              "      <th>DayofMonth</th>\n",
              "      <th>DayOfWeek</th>\n",
              "      <th>DepTime</th>\n",
              "      <th>CRSDepTime</th>\n",
              "      <th>ArrTime</th>\n",
              "      <th>CRSArrTime</th>\n",
              "      <th>UniqueCarrier</th>\n",
              "      <th>...</th>\n",
              "      <th>TaxiIn</th>\n",
              "      <th>TaxiOut</th>\n",
              "      <th>Cancelled</th>\n",
              "      <th>CancellationCode</th>\n",
              "      <th>Diverted</th>\n",
              "      <th>CarrierDelay</th>\n",
              "      <th>WeatherDelay</th>\n",
              "      <th>NASDelay</th>\n",
              "      <th>SecurityDelay</th>\n",
              "      <th>LateAircraftDelay</th>\n",
              "    </tr>\n",
              "  </thead>\n",
              "  <tbody>\n",
              "    <tr>\n",
              "      <th>0</th>\n",
              "      <td>1</td>\n",
              "      <td>2003</td>\n",
              "      <td>6</td>\n",
              "      <td>17</td>\n",
              "      <td>2</td>\n",
              "      <td>1310</td>\n",
              "      <td>1255</td>\n",
              "      <td>1612.0</td>\n",
              "      <td>1615</td>\n",
              "      <td>AA</td>\n",
              "      <td>...</td>\n",
              "      <td>6.0</td>\n",
              "      <td>23</td>\n",
              "      <td>0</td>\n",
              "      <td>N</td>\n",
              "      <td>0</td>\n",
              "      <td>NaN</td>\n",
              "      <td>NaN</td>\n",
              "      <td>NaN</td>\n",
              "      <td>NaN</td>\n",
              "      <td>NaN</td>\n",
              "    </tr>\n",
              "    <tr>\n",
              "      <th>1</th>\n",
              "      <td>2</td>\n",
              "      <td>2003</td>\n",
              "      <td>6</td>\n",
              "      <td>20</td>\n",
              "      <td>5</td>\n",
              "      <td>1303</td>\n",
              "      <td>1255</td>\n",
              "      <td>1623.0</td>\n",
              "      <td>1615</td>\n",
              "      <td>AA</td>\n",
              "      <td>...</td>\n",
              "      <td>11.0</td>\n",
              "      <td>29</td>\n",
              "      <td>0</td>\n",
              "      <td>N</td>\n",
              "      <td>0</td>\n",
              "      <td>NaN</td>\n",
              "      <td>NaN</td>\n",
              "      <td>NaN</td>\n",
              "      <td>NaN</td>\n",
              "      <td>NaN</td>\n",
              "    </tr>\n",
              "    <tr>\n",
              "      <th>2</th>\n",
              "      <td>3</td>\n",
              "      <td>2003</td>\n",
              "      <td>6</td>\n",
              "      <td>22</td>\n",
              "      <td>7</td>\n",
              "      <td>1325</td>\n",
              "      <td>1255</td>\n",
              "      <td>1953.0</td>\n",
              "      <td>1615</td>\n",
              "      <td>AA</td>\n",
              "      <td>...</td>\n",
              "      <td>9.0</td>\n",
              "      <td>206</td>\n",
              "      <td>0</td>\n",
              "      <td>N</td>\n",
              "      <td>0</td>\n",
              "      <td>0.0</td>\n",
              "      <td>0.0</td>\n",
              "      <td>218.0</td>\n",
              "      <td>0.0</td>\n",
              "      <td>0.0</td>\n",
              "    </tr>\n",
              "    <tr>\n",
              "      <th>3</th>\n",
              "      <td>4</td>\n",
              "      <td>2003</td>\n",
              "      <td>6</td>\n",
              "      <td>23</td>\n",
              "      <td>1</td>\n",
              "      <td>1328</td>\n",
              "      <td>1255</td>\n",
              "      <td>1655.0</td>\n",
              "      <td>1615</td>\n",
              "      <td>AA</td>\n",
              "      <td>...</td>\n",
              "      <td>8.0</td>\n",
              "      <td>32</td>\n",
              "      <td>0</td>\n",
              "      <td>N</td>\n",
              "      <td>0</td>\n",
              "      <td>0.0</td>\n",
              "      <td>0.0</td>\n",
              "      <td>40.0</td>\n",
              "      <td>0.0</td>\n",
              "      <td>0.0</td>\n",
              "    </tr>\n",
              "    <tr>\n",
              "      <th>4</th>\n",
              "      <td>5</td>\n",
              "      <td>2003</td>\n",
              "      <td>6</td>\n",
              "      <td>25</td>\n",
              "      <td>3</td>\n",
              "      <td>1307</td>\n",
              "      <td>1255</td>\n",
              "      <td>1620.0</td>\n",
              "      <td>1615</td>\n",
              "      <td>AA</td>\n",
              "      <td>...</td>\n",
              "      <td>12.0</td>\n",
              "      <td>20</td>\n",
              "      <td>0</td>\n",
              "      <td>N</td>\n",
              "      <td>0</td>\n",
              "      <td>NaN</td>\n",
              "      <td>NaN</td>\n",
              "      <td>NaN</td>\n",
              "      <td>NaN</td>\n",
              "      <td>NaN</td>\n",
              "    </tr>\n",
              "  </tbody>\n",
              "</table>\n",
              "<p>5 rows × 30 columns</p>\n",
              "</div>\n",
              "      <button class=\"colab-df-convert\" onclick=\"convertToInteractive('df-623ca0b6-ef62-42bb-a403-e94ba3a39146')\"\n",
              "              title=\"Convert this dataframe to an interactive table.\"\n",
              "              style=\"display:none;\">\n",
              "        \n",
              "  <svg xmlns=\"http://www.w3.org/2000/svg\" height=\"24px\"viewBox=\"0 0 24 24\"\n",
              "       width=\"24px\">\n",
              "    <path d=\"M0 0h24v24H0V0z\" fill=\"none\"/>\n",
              "    <path d=\"M18.56 5.44l.94 2.06.94-2.06 2.06-.94-2.06-.94-.94-2.06-.94 2.06-2.06.94zm-11 1L8.5 8.5l.94-2.06 2.06-.94-2.06-.94L8.5 2.5l-.94 2.06-2.06.94zm10 10l.94 2.06.94-2.06 2.06-.94-2.06-.94-.94-2.06-.94 2.06-2.06.94z\"/><path d=\"M17.41 7.96l-1.37-1.37c-.4-.4-.92-.59-1.43-.59-.52 0-1.04.2-1.43.59L10.3 9.45l-7.72 7.72c-.78.78-.78 2.05 0 2.83L4 21.41c.39.39.9.59 1.41.59.51 0 1.02-.2 1.41-.59l7.78-7.78 2.81-2.81c.8-.78.8-2.07 0-2.86zM5.41 20L4 18.59l7.72-7.72 1.47 1.35L5.41 20z\"/>\n",
              "  </svg>\n",
              "      </button>\n",
              "      \n",
              "  <style>\n",
              "    .colab-df-container {\n",
              "      display:flex;\n",
              "      flex-wrap:wrap;\n",
              "      gap: 12px;\n",
              "    }\n",
              "\n",
              "    .colab-df-convert {\n",
              "      background-color: #E8F0FE;\n",
              "      border: none;\n",
              "      border-radius: 50%;\n",
              "      cursor: pointer;\n",
              "      display: none;\n",
              "      fill: #1967D2;\n",
              "      height: 32px;\n",
              "      padding: 0 0 0 0;\n",
              "      width: 32px;\n",
              "    }\n",
              "\n",
              "    .colab-df-convert:hover {\n",
              "      background-color: #E2EBFA;\n",
              "      box-shadow: 0px 1px 2px rgba(60, 64, 67, 0.3), 0px 1px 3px 1px rgba(60, 64, 67, 0.15);\n",
              "      fill: #174EA6;\n",
              "    }\n",
              "\n",
              "    [theme=dark] .colab-df-convert {\n",
              "      background-color: #3B4455;\n",
              "      fill: #D2E3FC;\n",
              "    }\n",
              "\n",
              "    [theme=dark] .colab-df-convert:hover {\n",
              "      background-color: #434B5C;\n",
              "      box-shadow: 0px 1px 3px 1px rgba(0, 0, 0, 0.15);\n",
              "      filter: drop-shadow(0px 1px 2px rgba(0, 0, 0, 0.3));\n",
              "      fill: #FFFFFF;\n",
              "    }\n",
              "  </style>\n",
              "\n",
              "      <script>\n",
              "        const buttonEl =\n",
              "          document.querySelector('#df-623ca0b6-ef62-42bb-a403-e94ba3a39146 button.colab-df-convert');\n",
              "        buttonEl.style.display =\n",
              "          google.colab.kernel.accessAllowed ? 'block' : 'none';\n",
              "\n",
              "        async function convertToInteractive(key) {\n",
              "          const element = document.querySelector('#df-623ca0b6-ef62-42bb-a403-e94ba3a39146');\n",
              "          const dataTable =\n",
              "            await google.colab.kernel.invokeFunction('convertToInteractive',\n",
              "                                                     [key], {});\n",
              "          if (!dataTable) return;\n",
              "\n",
              "          const docLinkHtml = 'Like what you see? Visit the ' +\n",
              "            '<a target=\"_blank\" href=https://colab.research.google.com/notebooks/data_table.ipynb>data table notebook</a>'\n",
              "            + ' to learn more about interactive tables.';\n",
              "          element.innerHTML = '';\n",
              "          dataTable['output_type'] = 'display_data';\n",
              "          await google.colab.output.renderOutput(dataTable, element);\n",
              "          const docLink = document.createElement('div');\n",
              "          docLink.innerHTML = docLinkHtml;\n",
              "          element.appendChild(docLink);\n",
              "        }\n",
              "      </script>\n",
              "    </div>\n",
              "  </div>\n",
              "  "
            ]
          },
          "metadata": {},
          "execution_count": 4
        }
      ],
      "source": [
        "delayed_flight = pd.read_csv(\"DelayedFlights-updated.csv\")\n",
        "delayed_flight.head(5)"
      ]
    },
    {
      "cell_type": "code",
      "execution_count": 5,
      "id": "dbf50a1f",
      "metadata": {
        "colab": {
          "base_uri": "https://localhost:8080/"
        },
        "id": "dbf50a1f",
        "outputId": "740f529a-dcf6-4a71-c9ca-2279b3864dcd"
      },
      "outputs": [
        {
          "output_type": "execute_result",
          "data": {
            "text/plain": [
              "Unnamed: 0             int64\n",
              "Year                   int64\n",
              "Month                  int64\n",
              "DayofMonth             int64\n",
              "DayOfWeek              int64\n",
              "DepTime                int64\n",
              "CRSDepTime             int64\n",
              "ArrTime              float64\n",
              "CRSArrTime             int64\n",
              "UniqueCarrier         object\n",
              "FlightNum              int64\n",
              "TailNum               object\n",
              "ActualElapsedTime    float64\n",
              "CRSElapsedTime         int64\n",
              "AirTime              float64\n",
              "ArrDelay             float64\n",
              "DepDelay               int64\n",
              "Origin                object\n",
              "Dest                  object\n",
              "Distance               int64\n",
              "TaxiIn               float64\n",
              "TaxiOut                int64\n",
              "Cancelled              int64\n",
              "CancellationCode      object\n",
              "Diverted               int64\n",
              "CarrierDelay         float64\n",
              "WeatherDelay         float64\n",
              "NASDelay             float64\n",
              "SecurityDelay        float64\n",
              "LateAircraftDelay    float64\n",
              "dtype: object"
            ]
          },
          "metadata": {},
          "execution_count": 5
        }
      ],
      "source": [
        "delayed_flight.dtypes"
      ]
    },
    {
      "cell_type": "markdown",
      "id": "65b8fb6a",
      "metadata": {
        "id": "65b8fb6a"
      },
      "source": [
        "#### Finding missing values"
      ]
    },
    {
      "cell_type": "code",
      "execution_count": 6,
      "id": "47bab524",
      "metadata": {
        "colab": {
          "base_uri": "https://localhost:8080/"
        },
        "id": "47bab524",
        "outputId": "e29c2e07-1425-47dc-c47f-37eeda726a9a"
      },
      "outputs": [
        {
          "output_type": "execute_result",
          "data": {
            "text/plain": [
              "Unnamed: 0             0\n",
              "Year                   0\n",
              "Month                  0\n",
              "DayofMonth             0\n",
              "DayOfWeek              0\n",
              "DepTime                0\n",
              "CRSDepTime             0\n",
              "ArrTime               10\n",
              "CRSArrTime             0\n",
              "UniqueCarrier          0\n",
              "FlightNum              0\n",
              "TailNum                0\n",
              "ActualElapsedTime     10\n",
              "CRSElapsedTime         0\n",
              "AirTime               10\n",
              "ArrDelay              10\n",
              "DepDelay               0\n",
              "Origin                 0\n",
              "Dest                   0\n",
              "Distance               0\n",
              "TaxiIn                10\n",
              "TaxiOut                0\n",
              "Cancelled              0\n",
              "CancellationCode       0\n",
              "Diverted               0\n",
              "CarrierDelay         240\n",
              "WeatherDelay         240\n",
              "NASDelay             240\n",
              "SecurityDelay        240\n",
              "LateAircraftDelay    240\n",
              "dtype: int64"
            ]
          },
          "metadata": {},
          "execution_count": 6
        }
      ],
      "source": [
        "delayed_flight.isna().sum()"
      ]
    },
    {
      "cell_type": "markdown",
      "id": "4be4949b",
      "metadata": {
        "id": "4be4949b"
      },
      "source": [
        "##### Checking distributions of the five columns"
      ]
    },
    {
      "cell_type": "code",
      "execution_count": 7,
      "id": "f21e5d30",
      "metadata": {
        "colab": {
          "base_uri": "https://localhost:8080/",
          "height": 334
        },
        "id": "f21e5d30",
        "outputId": "a3898fbd-c2b5-41dc-ae96-f4d0a92a121a"
      },
      "outputs": [
        {
          "output_type": "stream",
          "name": "stderr",
          "text": [
            "/usr/local/lib/python3.8/dist-packages/seaborn/distributions.py:2619: FutureWarning: `distplot` is a deprecated function and will be removed in a future version. Please adapt your code to use either `displot` (a figure-level function with similar flexibility) or `histplot` (an axes-level function for histograms).\n",
            "  warnings.warn(msg, FutureWarning)\n"
          ]
        },
        {
          "output_type": "display_data",
          "data": {
            "text/plain": [
              "<Figure size 432x288 with 1 Axes>"
            ],
            "image/png": "[encoded data removed]"
          },
          "metadata": {
            "needs_background": "light"
          }
        }
      ],
      "source": [
        "sns.distplot(delayed_flight['CarrierDelay'])\n",
        "plt.show()"
      ]
    },
    {
      "cell_type": "code",
      "source": [
        "sns.distplot(delayed_flight['NASDelay'])\n",
        "plt.show()"
      ],
      "metadata": {
        "colab": {
          "base_uri": "https://localhost:8080/",
          "height": 334
        },
        "id": "ZL30bgS8x4We",
        "outputId": "79361469-2f1c-40a0-a436-40a479e15190"
      },
      "id": "ZL30bgS8x4We",
      "execution_count": 8,
      "outputs": [
        {
          "output_type": "stream",
          "name": "stderr",
          "text": [
            "/usr/local/lib/python3.8/dist-packages/seaborn/distributions.py:2619: FutureWarning: `distplot` is a deprecated function and will be removed in a future version. Please adapt your code to use either `displot` (a figure-level function with similar flexibility) or `histplot` (an axes-level function for histograms).\n",
            "  warnings.warn(msg, FutureWarning)\n"
          ]
        },
        {
          "output_type": "display_data",
          "data": {
            "text/plain": [
              "<Figure size 432x288 with 1 Axes>"
            ],
            "image/png": "[encoded data removed]"
          },
          "metadata": {
            "needs_background": "light"
          }
        }
      ]
    },
    {
      "cell_type": "code",
      "execution_count": 9,
      "id": "bd967a01",
      "metadata": {
        "colab": {
          "base_uri": "https://localhost:8080/",
          "height": 334
        },
        "id": "bd967a01",
        "outputId": "e54c8979-bb9b-4f2c-87ea-22a2d1d75ff2"
      },
      "outputs": [
        {
          "output_type": "stream",
          "name": "stderr",
          "text": [
            "/usr/local/lib/python3.8/dist-packages/seaborn/distributions.py:2619: FutureWarning: `distplot` is a deprecated function and will be removed in a future version. Please adapt your code to use either `displot` (a figure-level function with similar flexibility) or `histplot` (an axes-level function for histograms).\n",
            "  warnings.warn(msg, FutureWarning)\n"
          ]
        },
        {
          "output_type": "display_data",
          "data": {
            "text/plain": [
              "<Figure size 432x288 with 1 Axes>"
            ],
            "image/png": "[encoded data removed]"
          },
          "metadata": {
            "needs_background": "light"
          }
        }
      ],
      "source": [
        "sns.distplot(delayed_flight['WeatherDelay'])\n",
        "plt.show()"
      ]
    },
    {
      "cell_type": "code",
      "execution_count": 10,
      "id": "4a956616",
      "metadata": {
        "colab": {
          "base_uri": "https://localhost:8080/",
          "height": 334
        },
        "id": "4a956616",
        "outputId": "bd837341-e5c0-476c-ae1d-2fe4e6263883"
      },
      "outputs": [
        {
          "output_type": "stream",
          "name": "stderr",
          "text": [
            "/usr/local/lib/python3.8/dist-packages/seaborn/distributions.py:2619: FutureWarning: `distplot` is a deprecated function and will be removed in a future version. Please adapt your code to use either `displot` (a figure-level function with similar flexibility) or `histplot` (an axes-level function for histograms).\n",
            "  warnings.warn(msg, FutureWarning)\n"
          ]
        },
        {
          "output_type": "display_data",
          "data": {
            "text/plain": [
              "<Figure size 432x288 with 1 Axes>"
            ],
            "image/png": "[encoded data removed]"
          },
          "metadata": {
            "needs_background": "light"
          }
        }
      ],
      "source": [
        "sns.distplot(delayed_flight['LateAircraftDelay'])\n",
        "plt.show()"
      ]
    },
    {
      "cell_type": "code",
      "execution_count": 11,
      "id": "afa61489",
      "metadata": {
        "colab": {
          "base_uri": "https://localhost:8080/",
          "height": 337
        },
        "id": "afa61489",
        "outputId": "bc88a2a1-d2e4-4eaf-dc64-352dd3db468e"
      },
      "outputs": [
        {
          "output_type": "stream",
          "name": "stderr",
          "text": [
            "/usr/local/lib/python3.8/dist-packages/seaborn/distributions.py:2619: FutureWarning: `distplot` is a deprecated function and will be removed in a future version. Please adapt your code to use either `displot` (a figure-level function with similar flexibility) or `histplot` (an axes-level function for histograms).\n",
            "  warnings.warn(msg, FutureWarning)\n"
          ]
        },
        {
          "output_type": "display_data",
          "data": {
            "text/plain": [
              "<Figure size 432x288 with 1 Axes>"
            ],
            "image/png": "[encoded data removed]"
          },
          "metadata": {
            "needs_background": "light"
          }
        }
      ],
      "source": [
        "sns.distplot(delayed_flight['SecurityDelay'])\n",
        "plt.show()"
      ]
    },
    {
      "cell_type": "markdown",
      "id": "587f0b54",
      "metadata": {
        "id": "587f0b54"
      },
      "source": [
        "##### Since distributions are skewed - Imputing missing values with median"
      ]
    },
    {
      "cell_type": "code",
      "execution_count": 12,
      "id": "03f04a7f",
      "metadata": {
        "id": "03f04a7f"
      },
      "outputs": [],
      "source": [
        "delayed_flight[\"CarrierDelay\"] = delayed_flight[\"CarrierDelay\"].fillna(delayed_flight[\"CarrierDelay\"].median())\n",
        "delayed_flight[\"NASDelay\"] = delayed_flight[\"NASDelay\"].fillna(delayed_flight[\"NASDelay\"].median())\n",
        "delayed_flight[\"WeatherDelay\"] = delayed_flight[\"WeatherDelay\"].fillna(delayed_flight[\"WeatherDelay\"].median())\n",
        "delayed_flight[\"LateAircraftDelay\"] = delayed_flight[\"LateAircraftDelay\"].fillna(delayed_flight[\"LateAircraftDelay\"].median())\n",
        "delayed_flight[\"SecurityDelay\"] = delayed_flight[\"SecurityDelay\"].fillna(delayed_flight[\"SecurityDelay\"].median())\n"
      ]
    },
    {
      "cell_type": "code",
      "source": [
        "delayed_flight.to_csv(\"DelayedFlights- cleaned.csv\")"
      ],
      "metadata": {
        "id": "Faga9FEczRBA"
      },
      "id": "Faga9FEczRBA",
      "execution_count": 15,
      "outputs": []
    }
  ],
  "metadata": {
    "kernelspec": {
      "display_name": "Python 3 (ipykernel)",
      "language": "python",
      "name": "python3"
    },
    "language_info": {
      "codemirror_mode": {
        "name": "ipython",
        "version": 3
      },
      "file_extension": ".py",
      "mimetype": "text/x-python",
      "name": "python",
      "nbconvert_exporter": "python",
      "pygments_lexer": "ipython3",
      "version": "3.9.7"
    },
    "colab": {
      "provenance": [],
      "include_colab_link": true
    }
  },
  "nbformat": 4,
  "nbformat_minor": 5
}